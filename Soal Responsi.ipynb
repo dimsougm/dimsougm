{
 "cells": [
  {
   "cell_type": "markdown",
   "id": "faba9134",
   "metadata": {},
   "source": [
    "## Responsi Prak. Metkom | Dimas Oryza | 18/430238/PA/18751"
   ]
  },
  {
   "cell_type": "markdown",
   "id": "4baca038",
   "metadata": {},
   "source": [
    "## Kriteria Penilaian\n",
    "50% Completeness\n",
    "25% Accuracy\n",
    "10% Efficiency\n",
    "10% Creativity\n",
    "5% Code Neatness\n"
   ]
  },
  {
   "cell_type": "markdown",
   "id": "938735fa",
   "metadata": {},
   "source": [
    "1. Buat sebuah modul fungsi OOP filtering sinyal suara dengan input berupa file .wav yang dapat didownload pada link dibawah ini:\n",
    "https://drive.google.com/file/d/1ebiWjzNpwM1GIqtzPmtFNGrmj0QACHpG/view?usp=sharing\n",
    "\n",
    "2. Buatlah sebuah program dengan GUI mengenai perhitungan aritmatika sederhana dengan input 2 angka yang dimasukkan pada textfield dan fungsi-fungsi aritmatika sederhana (+,-,*,-) berupa tombol ketika diklik salah satu tombolnya,program akan langsung mengeluarkan output"
   ]
  },
  {
   "cell_type": "code",
   "execution_count": 2,
   "id": "746bff3b",
   "metadata": {},
   "outputs": [
    {
     "ename": "ModuleNotFoundError",
     "evalue": "No module named 'soundfile'",
     "output_type": "error",
     "traceback": [
      "\u001b[1;31m---------------------------------------------------------------------------\u001b[0m",
      "\u001b[1;31mModuleNotFoundError\u001b[0m                       Traceback (most recent call last)",
      "Input \u001b[1;32mIn [2]\u001b[0m, in \u001b[0;36m<cell line: 4>\u001b[1;34m()\u001b[0m\n\u001b[0;32m      2\u001b[0m \u001b[38;5;28;01mimport\u001b[39;00m \u001b[38;5;21;01mnumpy\u001b[39;00m \u001b[38;5;28;01mas\u001b[39;00m \u001b[38;5;21;01mnp\u001b[39;00m\n\u001b[0;32m      3\u001b[0m \u001b[38;5;28;01mimport\u001b[39;00m \u001b[38;5;21;01mmatplotlib\u001b[39;00m\u001b[38;5;21;01m.\u001b[39;00m\u001b[38;5;21;01mpyplot\u001b[39;00m \u001b[38;5;28;01mas\u001b[39;00m \u001b[38;5;21;01mplt\u001b[39;00m\n\u001b[1;32m----> 4\u001b[0m \u001b[38;5;28;01mimport\u001b[39;00m \u001b[38;5;21;01msoundfile\u001b[39;00m \u001b[38;5;28;01mas\u001b[39;00m \u001b[38;5;21;01msf\u001b[39;00m\n\u001b[0;32m      6\u001b[0m x1,fs\u001b[38;5;241m=\u001b[39msf\u001b[38;5;241m.\u001b[39mread(\u001b[38;5;124m'\u001b[39m\u001b[38;5;124mMetkom/responsi/audio.wav\u001b[39m\u001b[38;5;124m'\u001b[39m)\n\u001b[0;32m      7\u001b[0m t1\u001b[38;5;241m=\u001b[39mnp\u001b[38;5;241m.\u001b[39marange(\u001b[38;5;28mlen\u001b[39m(x1))\u001b[38;5;241m/\u001b[39mfs\n",
      "\u001b[1;31mModuleNotFoundError\u001b[0m: No module named 'soundfile'"
     ]
    }
   ],
   "source": [
    "# 1. Filter untuk Audio\n",
    "import numpy as np\n",
    "from matplotlib import pyplot as plt\n",
    "\n",
    "SAMPLE_RATE = 44100  # Hertz\n",
    "DURATION = 5  # Seconds\n",
    "\n",
    "def generate_sine_wave(freq, sample_rate, duration):\n",
    "    x = np.linspace(0, duration, sample_rate * duration, endpoint=False)\n",
    "    frequencies = x * freq\n",
    "    # 2pi because np.sin takes radians\n",
    "    y = np.sin((2 * np.pi) * frequencies)\n",
    "    return x, y\n",
    "\n",
    "# Generate a 2 hertz sine wave that lasts for 5 seconds\n",
    "x, y = generate_sine_wave(2, SAMPLE_RATE, DURATION)\n",
    "plt.plot(x, y)\n",
    "plt.show()\n",
    "\n",
    "normalized_tone = np.int16((mixed_tone / mixed_tone.max()) * 32767)\n",
    "\n",
    "plt.plot(normalized_tone[:1000])\n",
    "plt.show()"
   ]
  },
  {
   "cell_type": "code",
   "execution_count": 1,
   "id": "a8dbbfed",
   "metadata": {},
   "outputs": [
    {
     "ename": "NameError",
     "evalue": "name 'age' is not defined",
     "output_type": "error",
     "traceback": [
      "\u001b[1;31m---------------------------------------------------------------------------\u001b[0m",
      "\u001b[1;31mNameError\u001b[0m                                 Traceback (most recent call last)",
      "Input \u001b[1;32mIn [1]\u001b[0m, in \u001b[0;36m<cell line: 33>\u001b[1;34m()\u001b[0m\n\u001b[0;32m     31\u001b[0m name\u001b[38;5;241m.\u001b[39mplace(x \u001b[38;5;241m=\u001b[39m \u001b[38;5;241m20\u001b[39m, y \u001b[38;5;241m=\u001b[39m \u001b[38;5;241m50\u001b[39m)\n\u001b[0;32m     32\u001b[0m name2\u001b[38;5;241m.\u001b[39mplace(x \u001b[38;5;241m=\u001b[39m \u001b[38;5;241m20\u001b[39m, y \u001b[38;5;241m=\u001b[39m \u001b[38;5;241m90\u001b[39m)\n\u001b[1;32m---> 33\u001b[0m \u001b[43mage\u001b[49m\u001b[38;5;241m.\u001b[39mplace(x \u001b[38;5;241m=\u001b[39m \u001b[38;5;241m20\u001b[39m, y \u001b[38;5;241m=\u001b[39m \u001b[38;5;241m130\u001b[39m)\n\u001b[0;32m     34\u001b[0m username\u001b[38;5;241m.\u001b[39mplace(x \u001b[38;5;241m=\u001b[39m \u001b[38;5;241m20\u001b[39m, y \u001b[38;5;241m=\u001b[39m \u001b[38;5;241m170\u001b[39m)\n\u001b[0;32m     35\u001b[0m email_\u001b[38;5;241m.\u001b[39mplace(x \u001b[38;5;241m=\u001b[39m \u001b[38;5;241m20\u001b[39m, y \u001b[38;5;241m=\u001b[39m \u001b[38;5;241m210\u001b[39m)\n",
      "\u001b[1;31mNameError\u001b[0m: name 'age' is not defined"
     ]
    }
   ],
   "source": [
    "# 2. Buat GUI perhitungan aritmatika\n",
    "from tkinter import *\n",
    " \n",
    "window = Tk()\n",
    "window.title(\"Kalkulator\")\n",
    "window.geometry('200x200')\n",
    " \n",
    "lbl = Label(window, text=\"Nilai Pertama : \",anchor=\"e\",width=20)\n",
    "lbl.grid(column=0, row=0)\n",
    "nilai1 = Entry(window,width=10)\n",
    "nilai1.grid(column=1,row=0)\n",
    "\n",
    "lbl2 = Label(window, text=\"Nilai Kedua : \",anchor=\"e\",width=20)\n",
    "lbl2.grid(column=0, row=1)\n",
    "nilai2 = Entry(window,width=10)\n",
    "nilai2.grid(column=1,row=1)\n",
    " \n",
    "lbl3 = Label(window, text=\"Hasil : \",anchor=\"e\",width=20)\n",
    "lbl3.grid(column=0, row=2)\n",
    "hasil = Label(window, text=\"0\",anchor=\"w\",width=10)\n",
    "hasil.grid(column=1, row=2)\n",
    " \n",
    "def tambah():\n",
    "    hasil.configure(text=(int(nilai1.get())+int(nilai2.get())))\n",
    " \n",
    "def kurang():\n",
    "    hasil.configure(text=(int(nilai1.get())-int(nilai2.get())))\n",
    " \n",
    "def kali():\n",
    "    hasil.configure(text=(int(nilai1.get())*int(nilai2.get())))\n",
    " \n",
    "def bagi():\n",
    "    hasil.configure(text=(int(nilai1.get())/int(nilai2.get())))\n",
    " \n",
    " \n",
    "btn = Button(window, text=\"+\", command=tambah)\n",
    "btn.grid(column=0, row=3)\n",
    "btn = Button(window, text=\"-\", command=kurang)\n",
    "btn.grid(column=1, row=3)\n",
    "btn = Button(window, text=\"*\", command=kali)\n",
    "btn.grid(column=0, row=4)\n",
    "btn = Button(window, text=\"/\", command=bagi)\n",
    "btn.grid(column=1, row=4)\n",
    " \n",
    " \n",
    "window.mainloop()"
   ]
  }
 ],
 "metadata": {
  "kernelspec": {
   "display_name": "Python 3 (ipykernel)",
   "language": "python",
   "name": "python3"
  },
  "language_info": {
   "codemirror_mode": {
    "name": "ipython",
    "version": 3
   },
   "file_extension": ".py",
   "mimetype": "text/x-python",
   "name": "python",
   "nbconvert_exporter": "python",
   "pygments_lexer": "ipython3",
   "version": "3.10.6"
  },
  "vscode": {
   "interpreter": {
    "hash": "26de051ba29f2982a8de78e945f0abaf191376122a1563185a90213a26c5da77"
   }
  }
 },
 "nbformat": 4,
 "nbformat_minor": 5
}
